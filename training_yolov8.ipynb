{
 "cells": [
  {
   "cell_type": "code",
   "execution_count": 1,
   "metadata": {},
   "outputs": [],
   "source": [
    "from ultralytics import YOLO\n",
    "\n",
    "# Download YOLOv8n model\n",
    "\n",
    "model = YOLO('yolov8n.pt')\n",
    "\n"
   ]
  },
  {
   "cell_type": "code",
   "execution_count": null,
   "metadata": {},
   "outputs": [],
   "source": [
    "# load model \n",
    "model = YOLO('./yolov8n.pt')\n",
    "\n",
    "results = model('./test/images/096_jpg.rf.14fd8ea20630609402fc44715b9cdda3.jpg')  # or img.jpg, or list of images\n"
   ]
  },
  {
   "cell_type": "code",
   "execution_count": null,
   "metadata": {},
   "outputs": [],
   "source": [
    "# training model on custom dataset\n",
    "model.train(data = 'data.yaml', epochs = 20, imgsz = 640)"
   ]
  }
 ],
 "metadata": {
  "language_info": {
   "name": "python"
  }
 },
 "nbformat": 4,
 "nbformat_minor": 2
}
